{
 "cells": [
  {
   "cell_type": "markdown",
   "metadata": {},
   "source": [
    "# Selecting the right covers"
   ]
  },
  {
   "cell_type": "code",
   "execution_count": null,
   "metadata": {},
   "outputs": [],
   "source": [
    "%matplotlib inline"
   ]
  },
  {
   "cell_type": "code",
   "execution_count": null,
   "metadata": {},
   "outputs": [],
   "source": [
    "import glob\n",
    "import os\n",
    "import os.path\n",
    "import shutil\n",
    "from pathlib import Path\n",
    "\n",
    "import numpy as np\n",
    "from keras.applications.vgg16 import VGG16, preprocess_input\n",
    "from keras.preprocessing import image\n",
    "from PIL import Image as pil_image\n",
    "from sklearn.cluster import KMeans\n",
    "\n",
    "image.LOAD_TRUNCATED_IMAGES = True "
   ]
  },
  {
   "cell_type": "markdown",
   "metadata": {},
   "source": [
    "### Open all jpg converted covers"
   ]
  },
  {
   "cell_type": "code",
   "execution_count": null,
   "metadata": {},
   "outputs": [],
   "source": [
    "p = Path(\"covers\")\n",
    "fnames = sorted(p.glob(\"*jpg\"))"
   ]
  },
  {
   "cell_type": "markdown",
   "metadata": {},
   "source": [
    "### Define a function to extract features"
   ]
  },
  {
   "cell_type": "code",
   "execution_count": null,
   "metadata": {},
   "outputs": [],
   "source": [
    "model = VGG16(weights='imagenet', include_top=False)\n",
    "\n",
    "def get_features(fname, model=model):\n",
    "    img = image.load_img(fname, target_size=(224, 224))\n",
    "    img_data = image.img_to_array(img)\n",
    "    img_data = np.expand_dims(img_data, axis=0)\n",
    "    img_data = preprocess_input(img_data)\n",
    "    return model.predict(img_data)"
   ]
  },
  {
   "cell_type": "markdown",
   "metadata": {},
   "source": [
    "### Use the convolutional neural network to extract features"
   ]
  },
  {
   "cell_type": "code",
   "execution_count": null,
   "metadata": {},
   "outputs": [],
   "source": [
    "%%time\n",
    "feats = {fname: get_features(fname) for fname in fnames}"
   ]
  },
  {
   "cell_type": "code",
   "execution_count": null,
   "metadata": {},
   "outputs": [],
   "source": [
    "list(feats.values())[0].shape"
   ]
  },
  {
   "cell_type": "code",
   "execution_count": null,
   "metadata": {},
   "outputs": [],
   "source": [
    "nclusters = 80\n",
    "to_fit = np.array([f.flatten() for f in feats.values()])\n",
    "kmeans = KMeans(n_clusters=nclusters, random_state=0).fit(to_fit)"
   ]
  },
  {
   "cell_type": "markdown",
   "metadata": {},
   "source": [
    "### Put the fnames in a dict of lists"
   ]
  },
  {
   "cell_type": "code",
   "execution_count": null,
   "metadata": {},
   "outputs": [],
   "source": [
    "from collections import defaultdict\n",
    "clusters = defaultdict(list)\n",
    "for label, fname in zip(kmeans.labels_, feats.keys()):\n",
    "    clusters[label].append(fname)"
   ]
  },
  {
   "cell_type": "markdown",
   "metadata": {},
   "source": [
    "### Saving the clustering results"
   ]
  },
  {
   "cell_type": "code",
   "execution_count": null,
   "metadata": {},
   "outputs": [],
   "source": [
    "import pickle\n",
    "with open('clusters.pickle', 'wb') as f:\n",
    "    pickle.dump(clusters, f)"
   ]
  },
  {
   "cell_type": "code",
   "execution_count": null,
   "metadata": {},
   "outputs": [],
   "source": [
    "import pickle\n",
    "with open('clusters.pickle', 'rb') as f:\n",
    "    clusters = pickle.load(f)"
   ]
  },
  {
   "cell_type": "markdown",
   "metadata": {},
   "source": [
    "## Creating a widget to explore the clusters"
   ]
  },
  {
   "cell_type": "code",
   "execution_count": null,
   "metadata": {},
   "outputs": [],
   "source": [
    "from typing import Any, Callable, Dict, List, Optional\n",
    "\n",
    "import ipywidgets as widgets\n",
    "from IPython.core.display import display\n",
    "from IPython.display import clear_output\n",
    "from PIL import Image\n",
    "\n",
    "\n",
    "def create_tab(do_display: bool = True) -> widgets.Tab:\n",
    "    \"\"\"Creates a `ipywidgets.Tab` which can display outputs in its tabs.\"\"\"\n",
    "    tab = widgets.Tab(children=(widgets.Output(),))\n",
    "\n",
    "    tab.set_title(0, \"Info\")\n",
    "    if do_display:\n",
    "        display(tab)\n",
    "\n",
    "    with tab.children[-1]:\n",
    "        print(\"Plots will show up here!\")\n",
    "    return tab\n",
    "\n",
    "\n",
    "def _do_in_tab(\n",
    "    i_cluster, tab: widgets.Tab, cluster: List[Path]\n",
    ") -> Callable[[bool], None]:\n",
    "    \"\"\"Performs an operation inside of a subtab of a `ipywidgets.Tab`.\n",
    "    Args\n",
    "        tab: Instance of `ipywidgets.Tab`\n",
    "        ds: A DataSet\n",
    "        which: can be either \"plot\", \"snapshot\", or \"dataset\"\n",
    "    \"\"\"\n",
    "\n",
    "    def delete_tab(output, tab):\n",
    "        def on_click(_):\n",
    "            tab.children = tuple(c for c in tab.children if c != output)\n",
    "\n",
    "        return on_click\n",
    "\n",
    "    def _on_click(_):\n",
    "        title = f\"# {i_cluster}\"\n",
    "        i = next(\n",
    "            (i for i in range(len(tab.children)) if tab.get_title(i) == title), None\n",
    "        )\n",
    "        if i is not None:\n",
    "            # cluster is already in the tab\n",
    "            tab.selected_index = i\n",
    "            return\n",
    "        out = widgets.Output(layout={\"height\": \"auto\"})\n",
    "        tab.children += (out,)\n",
    "        i = len(tab.children) - 1\n",
    "        tab.set_title(i, title)\n",
    "        with out:\n",
    "            clear_output(wait=True)\n",
    "            remove_button = button(\n",
    "                f\"Clear #{i_cluster}\",\n",
    "                \"danger\",\n",
    "                on_click=delete_tab(out, tab),\n",
    "                button_kwargs=dict(icon=\"eraser\"),\n",
    "            )\n",
    "            display(remove_button)\n",
    "            try:\n",
    "                for i, fname in enumerate(cluster):\n",
    "                    if i > 100:\n",
    "                        break\n",
    "                    with fname.open(\"rb\") as f:\n",
    "                        im = Image.open(f)\n",
    "                        i, j = im.size\n",
    "                        im = im.crop((i // 2, 0, i, j))\n",
    "                        x = np.array(im)[::2, ::2]\n",
    "                        im = Image.fromarray(x)\n",
    "                        display(im)\n",
    "            #                         display(widgets.Image(value=f.read()))\n",
    "            except Exception as e:\n",
    "                print(e)  # TODO: print complete traceback\n",
    "\n",
    "            display(remove_button)\n",
    "        tab.selected_index = i\n",
    "\n",
    "    return _on_click\n",
    "\n",
    "\n",
    "def button(\n",
    "    description: str,\n",
    "    button_style: Optional[str] = None,\n",
    "    on_click: Optional[Callable[[Any], None]] = None,\n",
    "    tooltip: Optional[str] = None,\n",
    "    layout_kwargs: Optional[Dict[str, Any]] = None,\n",
    "    button_kwargs: Optional[Dict[str, Any]] = None,\n",
    ") -> widgets.Button:\n",
    "    \"\"\"Returns a ipywidgets.Button.\"\"\"\n",
    "    layout_kwargs = layout_kwargs or {}\n",
    "    but = widgets.Button(\n",
    "        description=description,\n",
    "        button_style=button_style,\n",
    "        layout=widgets.Layout(\n",
    "            height=layout_kwargs.pop(\"height\", \"auto\"),\n",
    "            width=layout_kwargs.pop(\"width\", \"auto\"),\n",
    "            **layout_kwargs,\n",
    "        ),\n",
    "        tooltip=tooltip or description,\n",
    "        **(button_kwargs or {}),\n",
    "    )\n",
    "    if on_click is not None:\n",
    "        but.on_click(on_click)\n",
    "    return but\n",
    "\n",
    "\n",
    "# fix the size of the output widget\n",
    "style = \"\"\"\n",
    "    <style>\n",
    "        .output_scroll {\n",
    "            height: unset !important;\n",
    "            border-radius: unset !important;\n",
    "            -webkit-box-shadow: unset !important;\n",
    "            box-shadow: unset !important;\n",
    "        }\n",
    "    </style>\n",
    "    \"\"\"\n",
    "display(widgets.HTML(style))"
   ]
  },
  {
   "cell_type": "markdown",
   "metadata": {},
   "source": [
    "### Use the widget and maintain a list of selected/removed covers"
   ]
  },
  {
   "cell_type": "code",
   "execution_count": null,
   "metadata": {},
   "outputs": [],
   "source": [
    "selected = [\n",
    "    0,\n",
    "    4,\n",
    "    7,\n",
    "    9,\n",
    "    10,\n",
    "    11,\n",
    "    16,\n",
    "    18,\n",
    "    20,\n",
    "    22,\n",
    "    29,\n",
    "    30,\n",
    "    32,\n",
    "    34,\n",
    "    35,\n",
    "    39,\n",
    "    40,\n",
    "    41,\n",
    "    44,\n",
    "    45,\n",
    "    46,  # HARD\n",
    "    47,\n",
    "    48,\n",
    "    49,\n",
    "    50,\n",
    "    54,\n",
    "    55,\n",
    "    57,  # hard\n",
    "    61,\n",
    "    62,\n",
    "    65,\n",
    "    67,\n",
    "    73,\n",
    "    75,\n",
    "    78,\n",
    "    79,\n",
    "]\n",
    "to_remove = [\n",
    "    1,\n",
    "    2,\n",
    "    3,\n",
    "    5,\n",
    "    6,\n",
    "    8,\n",
    "    12,\n",
    "    13,\n",
    "    14,\n",
    "    15,\n",
    "    17,\n",
    "    19,\n",
    "    21,\n",
    "    23,\n",
    "    24,\n",
    "    25,\n",
    "    26,\n",
    "    27,\n",
    "    28,\n",
    "    31,\n",
    "    33,\n",
    "    36,\n",
    "    37,\n",
    "    38,\n",
    "    42,\n",
    "    43,\n",
    "    51,\n",
    "    52,\n",
    "    53,\n",
    "    56,\n",
    "    58,\n",
    "    59,\n",
    "    60,\n",
    "    63,\n",
    "    64,\n",
    "    66,\n",
    "    68,\n",
    "    69,\n",
    "    70,\n",
    "    71,\n",
    "    72,\n",
    "    74,\n",
    "    76,\n",
    "    77,\n",
    "]\n",
    "\n",
    "\n",
    "SHOW_REMOVED_AND_SELECTED = True\n",
    "\n",
    "tab = create_tab(do_display=False)\n",
    "buttons = []\n",
    "for i in sorted(clusters.keys()):\n",
    "    if not SHOW_REMOVED_AND_SELECTED and (i in to_remove or i in selected):\n",
    "        continue\n",
    "    b = button(f\"show {i}\", \"info\")\n",
    "    b.on_click(_do_in_tab(i, tab, clusters[i]))\n",
    "    buttons.append(b)\n",
    "display(widgets.Box(buttons, layout=widgets.Layout(flex_flow=\"row wrap\")))\n",
    "\n",
    "tab"
   ]
  },
  {
   "cell_type": "code",
   "execution_count": null,
   "metadata": {},
   "outputs": [],
   "source": [
    "print(len(selected), len(to_remove), len(selected) / len(to_remove))"
   ]
  },
  {
   "cell_type": "code",
   "execution_count": null,
   "metadata": {},
   "outputs": [],
   "source": [
    "from IPython.core.display import display, HTML\n",
    "display(HTML(\"<style>.container { width:100% !important; }</style>\"))"
   ]
  },
  {
   "cell_type": "markdown",
   "metadata": {},
   "source": [
    "## Display the selected clusters in a grid"
   ]
  },
  {
   "cell_type": "markdown",
   "metadata": {},
   "source": [
    "#### Show the full front and back"
   ]
  },
  {
   "cell_type": "code",
   "execution_count": null,
   "metadata": {},
   "outputs": [],
   "source": [
    "from PIL import Image\n",
    "imax = 8\n",
    "jmax = 5\n",
    "x, y = 143, 99\n",
    "new_im = Image.new(\"RGB\", (x * imax, y * jmax))\n",
    "fnames = [clusters[i][0] for i in selected]\n",
    "it = iter(fnames)\n",
    "for i in range(0, imax):\n",
    "    for j in range(0, jmax):\n",
    "        fname = next(it, None)\n",
    "        if fname is None:\n",
    "            break\n",
    "        im = Image.open(fname)\n",
    "        im.thumbnail((x, y))\n",
    "        lurb = (i * x, j * y, (i + 1) * x, (j + 1) * y)\n",
    "\n",
    "        draw = ImageDraw.Draw(im)\n",
    "        txt = selected[fnames.index(fname)]\n",
    "        draw.text((0, 0), f\"{txt}\",(255,255,255))\n",
    "        \n",
    "        new_im.paste(im, lurb)\n",
    "\n",
    "display(new_im)"
   ]
  },
  {
   "cell_type": "markdown",
   "metadata": {},
   "source": [
    "#### Show only the front "
   ]
  },
  {
   "cell_type": "code",
   "execution_count": null,
   "metadata": {},
   "outputs": [],
   "source": [
    "from PIL import Image, ImageDraw, ImageFont\n",
    "from PIL import Image\n",
    "imax = 8\n",
    "jmax = 5\n",
    "x, y = 142, 197\n",
    "new_im = Image.new(\"RGB\", (x * imax, y * jmax))\n",
    "fnames = [clusters[j][0] for i, j in enumerate(selected)]\n",
    "it = iter(fnames)\n",
    "for i in range(0, imax):\n",
    "    for j in range(0, jmax):\n",
    "        fname = next(it, None)\n",
    "        if fname is None:\n",
    "            break\n",
    "        im = Image.open(fname)\n",
    "        ii, jj = im.size\n",
    "        im = im.crop((ii // 2, 0, ii, jj))\n",
    "        im.thumbnail((x, y))\n",
    "        lurb = (i * x, j * y, (i + 1) * x, (j + 1) * y)\n",
    "\n",
    "        draw = ImageDraw.Draw(im)\n",
    "        txt = selected[fnames.index(fname)]\n",
    "        draw.text((0, 0), f\"{txt}\",(255,255,255))\n",
    "        new_im.paste(im, lurb)\n",
    "\n",
    "new_im"
   ]
  },
  {
   "cell_type": "markdown",
   "metadata": {},
   "source": [
    "### Move the selected clusters to a folder\n",
    "\n",
    "Then use the OS's file explorer to manually select a few cool covers per cluster."
   ]
  },
  {
   "cell_type": "code",
   "execution_count": null,
   "metadata": {},
   "outputs": [],
   "source": [
    "import shutil\n",
    "\n",
    "for i in selected:    \n",
    "    cluster = clusters[i]\n",
    "    for fname in cluster:\n",
    "        new_path = Path(f\"selected/{i}\") / fname.name\n",
    "        new_path.parent.mkdir(parents=True, exist_ok=True)\n",
    "        shutil.copy(str(fname), str(new_path))"
   ]
  },
  {
   "cell_type": "markdown",
   "metadata": {},
   "source": [
    "### Count the number of chosen covers per cluster after the selection"
   ]
  },
  {
   "cell_type": "code",
   "execution_count": null,
   "metadata": {},
   "outputs": [],
   "source": [
    "x = {}\n",
    "for icluster, fnames in clusters.items():\n",
    "    for fname in fnames:\n",
    "        x[fname.stem] = icluster"
   ]
  },
  {
   "cell_type": "code",
   "execution_count": null,
   "metadata": {},
   "outputs": [],
   "source": [
    "chosen = [f.stem for f in Path(\"final/\").glob(\"*\") if f.stem.startswith(\"data\")]"
   ]
  },
  {
   "cell_type": "code",
   "execution_count": null,
   "metadata": {},
   "outputs": [],
   "source": [
    "cluster_popularity = defaultdict(int)\n",
    "for f in chosen:\n",
    "    cluster_popularity[x[f]] += 1\n",
    "\n",
    "sorted(cluster_popularity.items(), key=lambda x: x[1])"
   ]
  }
 ],
 "metadata": {
  "language_info": {
   "name": "python",
   "pygments_lexer": "ipython3"
  }
 },
 "nbformat": 4,
 "nbformat_minor": 2
}
