{
 "cells": [
  {
   "cell_type": "markdown",
   "metadata": {},
   "source": [
    "# Generating backgrounds"
   ]
  },
  {
   "cell_type": "code",
   "execution_count": null,
   "metadata": {},
   "outputs": [],
   "source": [
    "%matplotlib inline"
   ]
  },
  {
   "cell_type": "code",
   "execution_count": null,
   "metadata": {},
   "outputs": [],
   "source": [
    "from pathlib import Path\n",
    "\n",
    "import matplotlib as mpl\n",
    "\n",
    "from thesis_cover import *\n",
    "\n",
    "mpl.rcParams[\"figure.dpi\"] = 300\n",
    "\n",
    "options = sorted(Path(\"data\").glob(\"*/*.pickle\"))\n",
    "\n",
    "\n",
    "def generate_cover(\n",
    "    learner,\n",
    "    save_fname: str,\n",
    "    npoints_interp=1000,\n",
    "    dpi=300,\n",
    "    resolution=(4096, 2160),\n",
    "    cmap=None,\n",
    "):\n",
    "    data = list(learner.data.items())\n",
    "    x_size, y_size = xy_size = (resolution[0] / dpi, resolution[1] / dpi)\n",
    "    fig, ax = plt.subplots(figsize=(x_size, y_size))\n",
    "    fig.subplots_adjust(left=0, bottom=0, right=1, top=1, wspace=None, hspace=None)\n",
    "\n",
    "    ax.set_xticks([])\n",
    "    ax.set_yticks([])\n",
    "\n",
    "    cmap = cmap or get_cmap(\"inferno\", 0.15, 0.95, 1.15)\n",
    "    npoints_tri = len(data) // 4\n",
    "    if len(data) > 4000:\n",
    "        npoints_tri = max(npoints_tri, 4000)\n",
    "\n",
    "    im, line1, line2 = get_new_artists(\n",
    "        npoints_tri, learner, data, ax, xy_size, npoints_interp, cmap\n",
    "    )\n",
    "\n",
    "    ax.axis(\"off\")\n",
    "\n",
    "    ax.set_xlim(-x_size / 2, x_size / 2)\n",
    "    ax.set_ylim(-y_size / 2, y_size / 2)\n",
    "    print(f\"Saving {save_fname}\")\n",
    "    if save_fname is not None:\n",
    "        fig.savefig(\n",
    "            save_fname, format=save_fname.suffix[1:], pad_inches=0, dpi=dpi,\n",
    "        )\n",
    "    else:\n",
    "        plt.show()\n",
    "    plt.close(fig)\n",
    "\n",
    "\n",
    "folder = Path(\"background-defense\")\n",
    "folder.mkdir(exist_ok=True)"
   ]
  },
  {
   "cell_type": "markdown",
   "metadata": {},
   "source": [
    "## Pick one using a widget"
   ]
  },
  {
   "cell_type": "code",
   "execution_count": null,
   "metadata": {},
   "outputs": [],
   "source": [
    "import adaptive\n",
    "from ipywidgets import Dropdown, IntText, interact\n",
    "\n",
    "\n",
    "def get_background(fname, cmap, x_resolution, y_resolution):\n",
    "    learner = load_learner(fname)\n",
    "    cmap = get_cmap(cmap, 0.10, 0.85, 0.85)\n",
    "    generate_cover(\n",
    "        learner,\n",
    "        None,\n",
    "        cmap=cmap,\n",
    "        npoints_interp=2000,\n",
    "        resolution=(x_resolution, y_resolution),\n",
    "    )\n",
    "\n",
    "\n",
    "interact(\n",
    "    get_background,\n",
    "    fname=Dropdown(options=options),\n",
    "    cmap=Dropdown(options=plt.colormaps(), value=\"inferno\"),\n",
    "    x_resolution=IntText(value=4096),\n",
    "    y_resolution=IntText(value=2160),\n",
    ")"
   ]
  },
  {
   "cell_type": "markdown",
   "metadata": {},
   "source": [
    "## Generate all"
   ]
  },
  {
   "cell_type": "code",
   "execution_count": null,
   "metadata": {},
   "outputs": [],
   "source": [
    "for i, fname in enumerate(options):\n",
    "    learner = load_learner(fname)\n",
    "    print(f\"cover {i+1}, npoints: {learner.npoints}\")\n",
    "    cmap = get_cmap(\"inferno\", 0.10, 0.85, 0.85)\n",
    "    generate_cover(\n",
    "        learner,\n",
    "        fname_out(folder, fname).with_suffix(\".png\"),\n",
    "        cmap=cmap,\n",
    "        npoints_interp=2000,\n",
    "        dpi=300,\n",
    "    )\n",
    "    print()"
   ]
  }
 ],
 "metadata": {
  "language_info": {
   "name": "python",
   "pygments_lexer": "ipython3"
  }
 },
 "nbformat": 4,
 "nbformat_minor": 4
}
