{
 "cells": [
  {
   "cell_type": "markdown",
   "metadata": {},
   "source": [
    "# Creating the different covers"
   ]
  },
  {
   "cell_type": "markdown",
   "metadata": {},
   "source": [
    "After cloning the repo, this notebook directly generates all covers in pdf format."
   ]
  },
  {
   "cell_type": "markdown",
   "metadata": {},
   "source": [
    "## Since each print is unique, I added people's names already"
   ]
  },
  {
   "cell_type": "code",
   "execution_count": null,
   "metadata": {},
   "outputs": [],
   "source": [
    "personal_msgs = [\n",
    "    # Family\n",
    "    \"voor papa & Yvonne\",\n",
    "    \"voor mama & Peter\",\n",
    "    \"voor opa & oma\",\n",
    "    \"till Björn\",\n",
    "    \"till Maria\",\n",
    "    \"voor Donald & Gerdie\",\n",
    "    \"voor Emma & Rik\",\n",
    "    \"voor Mirjam & Daniel\",\n",
    "    \"voor John & Jeanine\",\n",
    "    \"voor Paul & Marjolein\",\n",
    "    \"voor Jorn\",\n",
    "    \"voor Eva & Ron\",\n",
    "    \"for Marcella\",\n",
    "    \"für Volker & Renee\",\n",
    "    # Friends\n",
    "    \"till Sofie\",\n",
    "    \"voor Stijn\",\n",
    "    \"voor Jimmy & Tessa\",\n",
    "    \"voor Bram\",\n",
    "    \"voor Kaila\",\n",
    "    \"voor Maria\",\n",
    "    \"voor Michiel\",\n",
    "    \"voor Bas\",\n",
    "    \"voor Daniël\",\n",
    "    \"voor Jesse\",\n",
    "    \"voor Stijn\",\n",
    "    \"voor Michiel & Anne-Nynke\",\n",
    "    \"for Joe\",\n",
    "    # Colleagues: MS and TUD\n",
    "    \"voor Tom\",\n",
    "    \"voor Kevin\",\n",
    "    \"voor Victor\",\n",
    "    \"voor Mine\",\n",
    "    \"for Bernard\",\n",
    "    \"for Leo\",\n",
    "    \"for Martha\",\n",
    "    \"voor Willemijn\",\n",
    "    \"voor Damaz\",\n",
    "    # Quantum Tinkerer\n",
    "    \"for Piotr\",\n",
    "    \"for Satish\",\n",
    "    \"for Daniel\",\n",
    "    \"for Slava\",\n",
    "    \"for André\",\n",
    "    \"for Kim\",\n",
    "    \"for Kostas\",\n",
    "    \"for Hélène\",\n",
    "    \"for Chun-Xiao\",\n",
    "    # Ph.D. committee\n",
    "    \"for Dr. Anton Akhmerov\",\n",
    "    \"for Dr. Michael Wimmer\",\n",
    "    \"for Prof. Dr. L. M. K. Vandersypen\",\n",
    "    \"for Prof. Dr. C. W. J. Beenakker\",\n",
    "    \"for Prof. Dr. A. P. Higginbotham\",\n",
    "    \"for Prof. Dr. F. von Oppen\",\n",
    "    \"for Prof. Dr. E. Prada\",\n",
    "    \"for Prof. Dr. A. F. Otte\",\n",
    "]\n",
    "print(len(personal_msgs))"
   ]
  },
  {
   "cell_type": "markdown",
   "metadata": {},
   "source": [
    "## I randomly shuffle the order of the file, but someone requested a specific cover, so I need the right seed"
   ]
  },
  {
   "cell_type": "code",
   "execution_count": null,
   "metadata": {},
   "outputs": [],
   "source": [
    "from pathlib import Path\n",
    "import random\n",
    "\n",
    "i = next(i for i, msg in enumerate(personal_msgs) if \"Vandersypen\" in msg)\n",
    "\n",
    "while True:\n",
    "    options = sorted(Path(\"data\").glob(\"*/*.pickle\"))\n",
    "    random.seed(seed)\n",
    "    random.shuffle(options)\n",
    "    # seed chosen such that Vandersypen has the cover he wants.\n",
    "    if options[i] == Path(\"data/mu-sweep2/data_learner_0256.pickle\"):\n",
    "        break\n",
    "seed"
   ]
  },
  {
   "cell_type": "markdown",
   "metadata": {},
   "source": [
    "## This loops over all existing files and generates the pdf.\n",
    "\n",
    "The relavant function to look at is `thesis_cover.generate_cover`."
   ]
  },
  {
   "cell_type": "code",
   "execution_count": null,
   "metadata": {},
   "outputs": [],
   "source": [
    "from thesis_cover import *\n",
    "from itertools import zip_longest\n",
    "\n",
    "folder = Path(\"covers\")\n",
    "folder.mkdir(exist_ok=True)\n",
    "\n",
    "for i, (fname, msg) in enumerate(zip_longest(options, personal_msgs)):\n",
    "    if fname_out(folder, fname).exists():\n",
    "        continue\n",
    "    learner = load_learner(fname)\n",
    "    print(f\"cover {i+1}, npoints: {learner.npoints}\")\n",
    "    cmap = get_cmap(\"inferno\", 0.10, 0.85, 0.85)\n",
    "    generate_cover(\n",
    "        learner,\n",
    "        fname_out(folder, fname),\n",
    "        with_lines=False,\n",
    "        cmap=cmap,\n",
    "        personal_text=msg,\n",
    "        npoints_interp=2000,\n",
    "        dpi=300,\n",
    "        edition=i + 1,\n",
    "        with_text=True,\n",
    "    )\n",
    "    print()\n"
   ]
  },
  {
   "cell_type": "markdown",
   "metadata": {},
   "source": [
    "## combine all covers into a single PDF\n",
    "\n",
    "This was requested by the printing company ([proefschriftenprinten.nl](https://proefschriftenprinten.nl/?lang=en))."
   ]
  },
  {
   "cell_type": "code",
   "execution_count": null,
   "metadata": {},
   "outputs": [],
   "source": [
    "fnames_as_str = \" \".join([str(fname_out(folder, f)) for f in options])\n",
    "f\"pdfunite {fnames_as_str} all-covers.pdf\""
   ]
  }
 ],
 "metadata": {
  "language_info": {
   "name": "python",
   "pygments_lexer": "ipython3"
  }
 },
 "nbformat": 4,
 "nbformat_minor": 4
}
